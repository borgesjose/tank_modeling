{
 "cells": [
  {
   "cell_type": "markdown",
   "metadata": {},
   "source": [
    "  \n",
    " Universidade Federal do Piaui                     \n",
    " Campus Ministro Petronio Portela                    \n",
    " Copyright 2022 -José Borges do Carmo Neto-          \n",
    " @author José Borges do Carmo Neto                   \n",
    " @email jose.borges90@hotmail.com                    \n",
    "  Simulation cilindrical tank                        \n",
    "                                                     \n",
    "  -- Version: 1.0  - 10/05/2022                      \n"
   ]
  },
  {
   "cell_type": "code",
   "execution_count": null,
   "metadata": {},
   "outputs": [],
   "source": []
  },
  {
   "cell_type": "code",
   "execution_count": null,
   "metadata": {},
   "outputs": [],
   "source": [
    " d = dh_dt(t,y,A,Qin,Cd)"
   ]
  }
 ],
 "metadata": {
  "language_info": {
   "name": "python"
  },
  "orig_nbformat": 4
 },
 "nbformat": 4,
 "nbformat_minor": 2
}
