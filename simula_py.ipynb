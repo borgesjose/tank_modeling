{
 "cells": [
  {
   "cell_type": "markdown",
   "metadata": {},
   "source": [
    "  \n",
    " Universidade Federal do Piaui                     \n",
    " Campus Ministro Petronio Portela                    \n",
    " Copyright 2022 -José Borges do Carmo Neto-          \n",
    " @author José Borges do Carmo Neto                   \n",
    " @email jose.borges90@hotmail.com                    \n",
    "Simulation cilindrical tank                        \n",
    "                                                     \n",
    "  -- Version: 1.0  - 10/05/2022                      \n"
   ]
  },
  {
   "cell_type": "code",
   "execution_count": 59,
   "metadata": {},
   "outputs": [],
   "source": [
    "# library import\n",
    "\n",
    "import numpy as np\n",
    "from scipy.integrate import odeint\n",
    "import matplotlib.pyplot as plt\n",
    "import math"
   ]
  },
  {
   "cell_type": "code",
   "execution_count": 60,
   "metadata": {},
   "outputs": [],
   "source": [
    "#Dados do probelma:\n",
    "\n",
    "Cv = 0.97 #velocity coefficient (water 0.97)\n",
    "Cc = 0.97 #contraction coefficient (sharp edge aperture 0.62, well rounded aperture 0.97)\n",
    "\n",
    "Cd = Cc*Cv # discharge coefficient\n",
    "\n",
    "r = 0.01;# raio do orificio de saida em metros\n",
    "\n",
    "A = math.pi*r**2;# Area do orificio de saida\n"
   ]
  },
  {
   "cell_type": "code",
   "execution_count": 61,
   "metadata": {},
   "outputs": [],
   "source": [
    "#modeling\n",
    "\n",
    "def cilindrical_tank_nl(y,t,A,Qin,Cd):\n",
    "    import math\n",
    "    # calculate derivative of the Level\n",
    "    \n",
    "    g = 9.81;\n",
    "    R = 0.042; # Radio meters\n",
    "    \n",
    "    b = A*Cd*math.sqrt(2*g);\n",
    "    \n",
    "    k1 = 1/(math.pi*(R)**2);\n",
    "    k2 = b/(math.pi*(R)**2);\n",
    "\n",
    "\n",
    "    dh_dt = Qin*k1 - k2*y**(1/2);\n",
    "\n",
    "    return dh_dt"
   ]
  },
  {
   "cell_type": "code",
   "execution_count": 68,
   "metadata": {},
   "outputs": [],
   "source": [
    "# initial condition\n",
    "h0 = .01\n",
    "Ts = 5; # periodo de amostragem para processo de um tanque ( Landau,2006)\n",
    "Tsim = 150\n",
    "# number of time points\n",
    "nptos = int(Tsim/Ts);\n",
    "# time points\n",
    "ts = np.linspace(0,Tsim,nptos);\n",
    "\n",
    "# step input\n",
    "for i in range(nptos):\n",
    "    if i<=nptos/3: u[i]= 0.0010\n",
    "    if i>nptos/3 and i<=2*nptos/3: u[i] = 0.0012\n",
    "    if i> 2*nptos/3: u[i] = 0.0015\n",
    "\n",
    "# store solution\n",
    "\n",
    "h = np.empty_like(ts)\n",
    "# record initial conditions\n",
    "h[0] = h0\n"
   ]
  },
  {
   "cell_type": "code",
   "execution_count": 69,
   "metadata": {},
   "outputs": [],
   "source": [
    "# Solve ODE:\n",
    "\n",
    "for i in range(1,nptos):\n",
    "    # span for next time step\n",
    "    tspan = [ts[i-1],ts[i]]\n",
    "    # solve for next step\n",
    "    y = odeint(cilindrical_tank_nl,h0,tspan,args=(A,u[i],Cd,))\n",
    "\n",
    "    h[i] = y[1]\n",
    "    h0 = y[1]\n"
   ]
  },
  {
   "cell_type": "code",
   "execution_count": 70,
   "metadata": {},
   "outputs": [
    {
     "data": {
      "image/png": "[encoded data removed]",
      "text/plain": [
       "<Figure size 432x288 with 1 Axes>"
      ]
     },
     "metadata": {
      "needs_background": "light"
     },
     "output_type": "display_data"
    }
   ],
   "source": [
    "# plot results\n",
    "plt.plot(ts,u,'g:',label='u(t)')\n",
    "plt.plot(ts,x,'b-',label='x(t)')\n",
    "plt.plot(ts,h,'r--',label='y(t)')\n",
    "plt.ylabel('values')\n",
    "plt.xlabel('time')\n",
    "plt.legend(loc='best')\n",
    "plt.show()\n"
   ]
  }
 ],
 "metadata": {
  "interpreter": {
   "hash": "0764b4ab1cb4df747353109edecb473e64c31bd0bfcf97747049310c692f3a16"
  },
  "kernelspec": {
   "display_name": "Python 3.10.1 64-bit",
   "language": "python",
   "name": "python3"
  },
  "language_info": {
   "codemirror_mode": {
    "name": "ipython",
    "version": 3
   },
   "file_extension": ".py",
   "mimetype": "text/x-python",
   "name": "python",
   "nbconvert_exporter": "python",
   "pygments_lexer": "ipython3",
   "version": "3.10.1"
  },
  "orig_nbformat": 4
 },
 "nbformat": 4,
 "nbformat_minor": 2
}
