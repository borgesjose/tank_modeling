{
 "cells": [
  {
   "cell_type": "markdown",
   "metadata": {},
   "source": [
    "  \n",
    " Universidade Federal do Piaui                     \n",
    " Campus Ministro Petronio Portela                    \n",
    " Copyright 2022 -José Borges do Carmo Neto-          \n",
    " @author José Borges do Carmo Neto                   \n",
    " @email jose.borges90@hotmail.com                    \n",
    "Simulation cilindrical tank                        \n",
    "                                                     \n",
    "  -- Version: 0.01  - 10/05/2022                      \n"
   ]
  },
  {
   "cell_type": "code",
   "execution_count": 106,
   "metadata": {},
   "outputs": [],
   "source": [
    "# library import\n",
    "\n",
    "import numpy as np\n",
    "from scipy.integrate import odeint\n",
    "import matplotlib.pyplot as plt\n",
    "import math"
   ]
  },
  {
   "cell_type": "markdown",
   "metadata": {},
   "source": [
    "# Tanque Cilindrico"
   ]
  },
  {
   "cell_type": "code",
   "execution_count": 107,
   "metadata": {},
   "outputs": [],
   "source": [
    "#Dados do probelma:\n",
    "\n",
    "Cv = 0.97 #velocity coefficient (water 0.97)\n",
    "Cc = 0.97 #contraction coefficient (sharp edge aperture 0.62, well rounded aperture 0.97)\n",
    "\n",
    "Cd = Cc*Cv # discharge coefficient\n",
    "\n",
    "r = 0.01;# raio do orificio de saida em metros\n",
    "\n",
    "A = math.pi*r**2;# Area do orificio de saida\n"
   ]
  },
  {
   "cell_type": "code",
   "execution_count": 108,
   "metadata": {},
   "outputs": [],
   "source": [
    "#modeling\n",
    "\n",
    "def cilindrical_tank_nl(y,t,A,Qin,Cd):\n",
    "    import math\n",
    "    # calculate derivative of the Level\n",
    "    \n",
    "    g = 9.81;\n",
    "    R = 0.042; # Radio meters\n",
    "    \n",
    "    b = A*Cd*math.sqrt(2*g);\n",
    "    \n",
    "    k1 = 1/(math.pi*(R)**2);\n",
    "    k2 = b/(math.pi*(R)**2);\n",
    "\n",
    "\n",
    "    dh_dt = Qin*k1 - k2*y**(1/2);\n",
    "\n",
    "    return dh_dt"
   ]
  },
  {
   "cell_type": "code",
   "execution_count": 109,
   "metadata": {},
   "outputs": [],
   "source": [
    "# initial condition\n",
    "h0 = .01\n",
    "Ts = 5; # periodo de amostragem para processo de um tanque ( Landau,2006)\n",
    "Tsim = 150\n",
    "# number of time points\n",
    "nptos = int(Tsim/Ts);\n",
    "# time points\n",
    "ts = np.linspace(0,Tsim,nptos);\n",
    "\n",
    "# step input\n",
    "u = np.zeros(nptos)\n",
    "for i in range(nptos):\n",
    "    if i<=nptos/3: u[i]= 0.0010\n",
    "    if i>nptos/3 and i<=2*nptos/3: u[i] = 0.0012\n",
    "    if i> 2*nptos/3: u[i] = 0.0015\n",
    "\n",
    "# store solution\n",
    "\n",
    "h = np.empty_like(ts)\n",
    "# record initial conditions\n",
    "h[0] = h0\n"
   ]
  },
  {
   "cell_type": "code",
   "execution_count": 110,
   "metadata": {},
   "outputs": [],
   "source": [
    "# Solve ODE:\n",
    "\n",
    "for i in range(1,nptos):\n",
    "    # span for next time step\n",
    "    tspan = [ts[i-1],ts[i]]\n",
    "    # solve for next step\n",
    "    y = odeint(cilindrical_tank_nl,h0,tspan,args=(A,u[i],Cd,))\n",
    "\n",
    "    h[i] = y[1]\n",
    "    h0 = y[1]\n"
   ]
  },
  {
   "cell_type": "code",
   "execution_count": 111,
   "metadata": {},
   "outputs": [
    {
     "data": {
      "image/png": "[encoded data removed]",
      "text/plain": [
       "<Figure size 432x288 with 1 Axes>"
      ]
     },
     "metadata": {
      "needs_background": "light"
     },
     "output_type": "display_data"
    }
   ],
   "source": [
    "# plot results\n",
    "#plt.plot(ts,u,'g:',label='u(t)')\n",
    "#plt.plot(ts,x,'b-',label='x(t)')\n",
    "plt.plot(ts,h,'r--',label='y(t)')\n",
    "plt.ylabel('height')\n",
    "plt.xlabel('time')\n",
    "plt.legend(loc='best')\n",
    "plt.show()\n"
   ]
  },
  {
   "cell_type": "markdown",
   "metadata": {},
   "source": [
    "# Tanque Cônico"
   ]
  },
  {
   "cell_type": "code",
   "execution_count": 112,
   "metadata": {},
   "outputs": [],
   "source": [
    "#Dados do probelma:\n",
    "\n",
    "Cv = 0.97 #velocity coefficient (water 0.97)\n",
    "Cc = 0.97 #contraction coefficient (sharp edge aperture 0.62, well rounded aperture 0.97)\n",
    "\n",
    "Cd = Cc*Cv # discharge coefficient\n",
    "\n",
    "rc = 0.008;# raio do orificio de saida em metros\n",
    "\n",
    "Ac = math.pi*rc**2;# Area do orificio de saida"
   ]
  },
  {
   "cell_type": "code",
   "execution_count": 113,
   "metadata": {},
   "outputs": [],
   "source": [
    "#modeling\n",
    "\n",
    "def conical_tank_nl(t,y,A,Qin,Cd):\n",
    "    import math\n",
    "    # calculate derivative of the Level\n",
    "    \n",
    "    g = 9.81;\n",
    "    H = 0.70\n",
    "    R1 = 0.10; # Raio em metros\n",
    "    R2 = 0.05; # Raio da base do cilindro\n",
    "    \n",
    "    b = A*Cd*math.sqrt(2*g);\n",
    "    \n",
    "    dh_dt = (Qin - b*y**(1/2))/(R2 + ((R1-R2)/H)*y)**(2);\n",
    "\n",
    "    return dh_dt"
   ]
  },
  {
   "cell_type": "code",
   "execution_count": 125,
   "metadata": {},
   "outputs": [],
   "source": [
    "# initial condition\n",
    "h0 = .01\n",
    "Ts = 5; # periodo de amostragem para processo de um tanque ( Landau,2006)\n",
    "Tsim = 1000\n",
    "# number of time points\n",
    "nptos = int(Tsim/Ts);\n",
    "# time points\n",
    "ts = np.linspace(0,Tsim,nptos);\n",
    "\n",
    "# step input\n",
    "uc = np.zeros(nptos)\n",
    "for i in range(nptos):\n",
    "    if i<=nptos/3: uc[i]= 0.0010\n",
    "    if i>nptos/3 and i<=2*nptos/3: uc[i] = 0.0012\n",
    "    if i> 2*nptos/3: uc[i] = 0.0015\n",
    "\n",
    "# store solution\n",
    "\n",
    "hc = np.empty_like(ts)\n",
    "# record initial conditions\n",
    "hc[0] = h0"
   ]
  },
  {
   "cell_type": "code",
   "execution_count": 126,
   "metadata": {},
   "outputs": [],
   "source": [
    "# Solve ODE:\n",
    "\n",
    "for i in range(1,nptos):\n",
    "    # span for next time step\n",
    "    tspan = [ts[i-1],ts[i]]\n",
    "    # solve for next step\n",
    "    y = odeint(conical_tank_nl,h0,tspan,args=(Ac,uc[i],Cd,))\n",
    "    #print(y.size)\n",
    "\n",
    "    hc[i] = y[1]\n",
    "    h0 = y[1]"
   ]
  },
  {
   "cell_type": "code",
   "execution_count": 127,
   "metadata": {},
   "outputs": [
    {
     "data": {
      "image/png": "[encoded data removed]",
      "text/plain": [
       "<Figure size 432x288 with 1 Axes>"
      ]
     },
     "metadata": {
      "needs_background": "light"
     },
     "output_type": "display_data"
    }
   ],
   "source": [
    "# plot results\n",
    "#plt.plot(ts,u,'g:',label='u(t)')\n",
    "#plt.plot(ts,x,'b-',label='x(t)')\n",
    "plt.plot(ts,hc,'r--',label='y(t)')\n",
    "plt.ylabel('height')\n",
    "plt.xlabel('time')\n",
    "plt.legend(loc='best')\n",
    "plt.show()\n"
   ]
  },
  {
   "cell_type": "code",
   "execution_count": 128,
   "metadata": {},
   "outputs": [
    {
     "data": {
      "image/png": "[encoded data removed]",
      "text/plain": [
       "<Figure size 432x288 with 1 Axes>"
      ]
     },
     "metadata": {
      "needs_background": "light"
     },
     "output_type": "display_data"
    }
   ],
   "source": [
    "# plot results\n",
    "plt.plot(ts,uc,'g:',label='u(t)')\n",
    "#plt.plot(ts,x,'b-',label='x(t)')\n",
    "#plt.plot(ts,hc,'r--',label='y(t)')\n",
    "plt.ylabel('ref')\n",
    "plt.xlabel('time')\n",
    "plt.legend(loc='best')\n",
    "plt.show()"
   ]
  }
 ],
 "metadata": {
  "interpreter": {
   "hash": "0764b4ab1cb4df747353109edecb473e64c31bd0bfcf97747049310c692f3a16"
  },
  "kernelspec": {
   "display_name": "Python 3.10.1 64-bit",
   "language": "python",
   "name": "python3"
  },
  "language_info": {
   "codemirror_mode": {
    "name": "ipython",
    "version": 3
   },
   "file_extension": ".py",
   "mimetype": "text/x-python",
   "name": "python",
   "nbconvert_exporter": "python",
   "pygments_lexer": "ipython3",
   "version": "3.10.1"
  },
  "orig_nbformat": 4
 },
 "nbformat": 4,
 "nbformat_minor": 2
}
